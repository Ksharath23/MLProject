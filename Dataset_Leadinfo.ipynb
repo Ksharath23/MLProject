{
 "cells": [
  {
   "cell_type": "code",
   "execution_count": 1,
   "id": "e05632b2",
   "metadata": {},
   "outputs": [],
   "source": [
    "import numpy as np\n",
    "import pandas as pd\n",
    "import matplotlib.pyplot as plt\n",
    "import seaborn as sns"
   ]
  },
  {
   "cell_type": "code",
   "execution_count": 2,
   "id": "a923cd40",
   "metadata": {},
   "outputs": [],
   "source": [
    "df = pd.read_csv('manage_lead_report.csv')"
   ]
  },
  {
   "cell_type": "code",
   "execution_count": 3,
   "id": "98a97593",
   "metadata": {},
   "outputs": [
    {
     "data": {
      "text/html": [
       "<div>\n",
       "<style scoped>\n",
       "    .dataframe tbody tr th:only-of-type {\n",
       "        vertical-align: middle;\n",
       "    }\n",
       "\n",
       "    .dataframe tbody tr th {\n",
       "        vertical-align: top;\n",
       "    }\n",
       "\n",
       "    .dataframe thead th {\n",
       "        text-align: right;\n",
       "    }\n",
       "</style>\n",
       "<table border=\"1\" class=\"dataframe\">\n",
       "  <thead>\n",
       "    <tr style=\"text-align: right;\">\n",
       "      <th></th>\n",
       "      <th>S.NO</th>\n",
       "      <th>LeadId</th>\n",
       "      <th>EnquiryNo</th>\n",
       "      <th>AcademicYear</th>\n",
       "      <th>LeadName</th>\n",
       "      <th>LeadType</th>\n",
       "      <th>CustomerCategory</th>\n",
       "      <th>City</th>\n",
       "      <th>CallCount</th>\n",
       "      <th>ChildName</th>\n",
       "      <th>...</th>\n",
       "      <th>utm_content</th>\n",
       "      <th>utm_extension</th>\n",
       "      <th>utm_position</th>\n",
       "      <th>campaign_name</th>\n",
       "      <th>ad_name</th>\n",
       "      <th>adset_name</th>\n",
       "      <th>form_name</th>\n",
       "      <th>referral_id</th>\n",
       "      <th>promocode</th>\n",
       "      <th>call_duration</th>\n",
       "    </tr>\n",
       "  </thead>\n",
       "  <tbody>\n",
       "    <tr>\n",
       "      <th>0</th>\n",
       "      <td>0</td>\n",
       "      <td>2737693</td>\n",
       "      <td>ENQ04937411029428</td>\n",
       "      <td>2023-24</td>\n",
       "      <td>Sukanya</td>\n",
       "      <td>Fresh</td>\n",
       "      <td>NaN</td>\n",
       "      <td>NaN</td>\n",
       "      <td>13</td>\n",
       "      <td>Advika</td>\n",
       "      <td>...</td>\n",
       "      <td>OIS_Parenting_Interest_28to48_3Cities</td>\n",
       "      <td>NaN</td>\n",
       "      <td>NaN</td>\n",
       "      <td>NaN</td>\n",
       "      <td>NaN</td>\n",
       "      <td>NaN</td>\n",
       "      <td>NaN</td>\n",
       "      <td>NaN</td>\n",
       "      <td>NaN</td>\n",
       "      <td>NaN</td>\n",
       "    </tr>\n",
       "    <tr>\n",
       "      <th>1</th>\n",
       "      <td>1</td>\n",
       "      <td>2737693</td>\n",
       "      <td>ENQ04937411029428</td>\n",
       "      <td>2023-24</td>\n",
       "      <td>Sukanya</td>\n",
       "      <td>Fresh</td>\n",
       "      <td>NaN</td>\n",
       "      <td>NaN</td>\n",
       "      <td>13</td>\n",
       "      <td>Advika</td>\n",
       "      <td>...</td>\n",
       "      <td>OIS_Parenting_Interest_28to48_3Cities</td>\n",
       "      <td>NaN</td>\n",
       "      <td>NaN</td>\n",
       "      <td>NaN</td>\n",
       "      <td>NaN</td>\n",
       "      <td>NaN</td>\n",
       "      <td>NaN</td>\n",
       "      <td>NaN</td>\n",
       "      <td>NaN</td>\n",
       "      <td>NaN</td>\n",
       "    </tr>\n",
       "    <tr>\n",
       "      <th>2</th>\n",
       "      <td>2</td>\n",
       "      <td>2747370</td>\n",
       "      <td>ENQ4997935978284</td>\n",
       "      <td>2023-24</td>\n",
       "      <td>Shaista</td>\n",
       "      <td>Fresh</td>\n",
       "      <td>NaN</td>\n",
       "      <td>NaN</td>\n",
       "      <td>19</td>\n",
       "      <td>Zafirah Tarique</td>\n",
       "      <td>...</td>\n",
       "      <td>581438377092</td>\n",
       "      <td>NaN</td>\n",
       "      <td>NaN</td>\n",
       "      <td>NaN</td>\n",
       "      <td>NaN</td>\n",
       "      <td>NaN</td>\n",
       "      <td>NaN</td>\n",
       "      <td>NaN</td>\n",
       "      <td>NaN</td>\n",
       "      <td>NaN</td>\n",
       "    </tr>\n",
       "    <tr>\n",
       "      <th>3</th>\n",
       "      <td>3</td>\n",
       "      <td>2747370</td>\n",
       "      <td>ENQ4997935978284</td>\n",
       "      <td>2023-24</td>\n",
       "      <td>Shaista</td>\n",
       "      <td>Fresh</td>\n",
       "      <td>NaN</td>\n",
       "      <td>NaN</td>\n",
       "      <td>19</td>\n",
       "      <td>NaN</td>\n",
       "      <td>...</td>\n",
       "      <td>581438377092</td>\n",
       "      <td>NaN</td>\n",
       "      <td>NaN</td>\n",
       "      <td>NaN</td>\n",
       "      <td>NaN</td>\n",
       "      <td>NaN</td>\n",
       "      <td>NaN</td>\n",
       "      <td>NaN</td>\n",
       "      <td>NaN</td>\n",
       "      <td>NaN</td>\n",
       "    </tr>\n",
       "    <tr>\n",
       "      <th>4</th>\n",
       "      <td>4</td>\n",
       "      <td>3222997</td>\n",
       "      <td>ENQ1988983905109</td>\n",
       "      <td>2023-24</td>\n",
       "      <td>PRATHIMA</td>\n",
       "      <td>Fresh</td>\n",
       "      <td>NaN</td>\n",
       "      <td>NaN</td>\n",
       "      <td>2</td>\n",
       "      <td>Mayank</td>\n",
       "      <td>...</td>\n",
       "      <td>NaN</td>\n",
       "      <td>NaN</td>\n",
       "      <td>NaN</td>\n",
       "      <td>NaN</td>\n",
       "      <td>NaN</td>\n",
       "      <td>NaN</td>\n",
       "      <td>NaN</td>\n",
       "      <td>NaN</td>\n",
       "      <td>NaN</td>\n",
       "      <td>NaN</td>\n",
       "    </tr>\n",
       "  </tbody>\n",
       "</table>\n",
       "<p>5 rows × 72 columns</p>\n",
       "</div>"
      ],
      "text/plain": [
       "   S.NO   LeadId          EnquiryNo AcademicYear  LeadName LeadType  \\\n",
       "0     0  2737693  ENQ04937411029428      2023-24   Sukanya    Fresh   \n",
       "1     1  2737693  ENQ04937411029428      2023-24   Sukanya    Fresh   \n",
       "2     2  2747370   ENQ4997935978284      2023-24   Shaista    Fresh   \n",
       "3     3  2747370   ENQ4997935978284      2023-24   Shaista    Fresh   \n",
       "4     4  3222997   ENQ1988983905109      2023-24  PRATHIMA    Fresh   \n",
       "\n",
       "  CustomerCategory  City  CallCount        ChildName  ...  \\\n",
       "0              NaN   NaN         13           Advika  ...   \n",
       "1              NaN   NaN         13           Advika  ...   \n",
       "2              NaN   NaN         19  Zafirah Tarique  ...   \n",
       "3              NaN   NaN         19              NaN  ...   \n",
       "4              NaN   NaN          2           Mayank  ...   \n",
       "\n",
       "                             utm_content utm_extension utm_position  \\\n",
       "0  OIS_Parenting_Interest_28to48_3Cities           NaN          NaN   \n",
       "1  OIS_Parenting_Interest_28to48_3Cities           NaN          NaN   \n",
       "2                           581438377092           NaN          NaN   \n",
       "3                           581438377092           NaN          NaN   \n",
       "4                                    NaN           NaN          NaN   \n",
       "\n",
       "  campaign_name ad_name adset_name form_name referral_id promocode  \\\n",
       "0           NaN     NaN        NaN       NaN         NaN       NaN   \n",
       "1           NaN     NaN        NaN       NaN         NaN       NaN   \n",
       "2           NaN     NaN        NaN       NaN         NaN       NaN   \n",
       "3           NaN     NaN        NaN       NaN         NaN       NaN   \n",
       "4           NaN     NaN        NaN       NaN         NaN       NaN   \n",
       "\n",
       "  call_duration  \n",
       "0           NaN  \n",
       "1           NaN  \n",
       "2           NaN  \n",
       "3           NaN  \n",
       "4           NaN  \n",
       "\n",
       "[5 rows x 72 columns]"
      ]
     },
     "execution_count": 3,
     "metadata": {},
     "output_type": "execute_result"
    }
   ],
   "source": [
    "df.head()"
   ]
  },
  {
   "cell_type": "code",
   "execution_count": 4,
   "id": "75d51269",
   "metadata": {},
   "outputs": [
    {
     "data": {
      "text/plain": [
       "Index(['S.NO', 'LeadId', 'EnquiryNo', 'AcademicYear', 'LeadName', 'LeadType',\n",
       "       'CustomerCategory', 'City', 'CallCount', 'ChildName', 'Grade', 'Source',\n",
       "       'Current_Status', 'Pro_Status', 'CounsellingDone',\n",
       "       'VirtualCounselingScheduled', 'VirtualCounselingDone',\n",
       "       'HomeCounselingScheduled', 'HomeCounselingDone', 'ParentDemoScheduled',\n",
       "       'ParentDemoDone', 'StudentOnlineDemoScheduled', 'StudentOnlineDemoDone',\n",
       "       'WalkinDone', 'ApplicationTaken', 'AdmissionDone',\n",
       "       'PrincipalInteractionScheduled', 'PrincipalnteractionDone', 'Remarks',\n",
       "       'NextFollowUpDate', 'NextFollowUpTime', 'FollowUpDate',\n",
       "       'Assigned_Date_To_Bda', 'Assigned_Date_Counselor',\n",
       "       'Assigned_Date_Digital_Counselor', 'Previous_School', 'Branch',\n",
       "       'created_Date', 'Event_Name', 'Pro_Name', 'Pro_Erp', 'Agent',\n",
       "       'Agent_Date', 'Counsellor_Name', 'Counsellor_Date',\n",
       "       'DigitalCounsellor_Name', 'BDA_NAME', 'HomeCounsellingScheduleDate',\n",
       "       'HomeCounsellingCompletedDate', 'TeamType', 'LastUpdateUser',\n",
       "       'FollowupMessageSend', 'Payment_id', 'utm_source', 'utm_medium',\n",
       "       'utm_campaign', 'utm_term', 'gclid', 'utm_placement', 'utm_experiment',\n",
       "       'utm_network', 'utm_adgroup', 'utm_content', 'utm_extension',\n",
       "       'utm_position', 'campaign_name', 'ad_name', 'adset_name', 'form_name',\n",
       "       'referral_id', 'promocode', 'call_duration'],\n",
       "      dtype='object')"
      ]
     },
     "execution_count": 4,
     "metadata": {},
     "output_type": "execute_result"
    }
   ],
   "source": [
    "df.columns"
   ]
  },
  {
   "cell_type": "code",
   "execution_count": 5,
   "id": "5ce117b2",
   "metadata": {},
   "outputs": [
    {
     "data": {
      "text/plain": [
       "4868"
      ]
     },
     "execution_count": 5,
     "metadata": {},
     "output_type": "execute_result"
    }
   ],
   "source": [
    "len(df)"
   ]
  },
  {
   "cell_type": "code",
   "execution_count": 8,
   "id": "3a81157a",
   "metadata": {},
   "outputs": [
    {
     "data": {
      "text/plain": [
       "array(['No', nan, 'Yes'], dtype=object)"
      ]
     },
     "execution_count": 8,
     "metadata": {},
     "output_type": "execute_result"
    }
   ],
   "source": [
    "df['AdmissionDone'].unique()"
   ]
  },
  {
   "cell_type": "code",
   "execution_count": 15,
   "id": "bc8dc304",
   "metadata": {},
   "outputs": [
    {
     "data": {
      "text/plain": [
       "4065"
      ]
     },
     "execution_count": 15,
     "metadata": {},
     "output_type": "execute_result"
    }
   ],
   "source": [
    "len(df[df['AdmissionDone']=='No'])"
   ]
  },
  {
   "cell_type": "code",
   "execution_count": null,
   "id": "d10f55ed",
   "metadata": {},
   "outputs": [],
   "source": []
  }
 ],
 "metadata": {
  "kernelspec": {
   "display_name": "Python 3 (ipykernel)",
   "language": "python",
   "name": "python3"
  },
  "language_info": {
   "codemirror_mode": {
    "name": "ipython",
    "version": 3
   },
   "file_extension": ".py",
   "mimetype": "text/x-python",
   "name": "python",
   "nbconvert_exporter": "python",
   "pygments_lexer": "ipython3",
   "version": "3.11.3"
  }
 },
 "nbformat": 4,
 "nbformat_minor": 5
}
